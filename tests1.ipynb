{
 "cells": [
  {
   "cell_type": "code",
   "execution_count": 41,
   "metadata": {},
   "outputs": [
    {
     "name": "stdout",
     "output_type": "stream",
     "text": [
      "(3, 4)\n"
     ]
    }
   ],
   "source": [
    "def check_num_array(num_array, target_sum):\n",
    "    for i, num_a in enumerate(num_array):\n",
    "        for j, num_b in enumerate(num_array):\n",
    "            if i != j and (num_a + num_b) == target_sum:\n",
    "                return i, j\n",
    "    return None, None\n",
    "\n",
    "array = [10, 2, 2, 5, 8]\n",
    "print(check_num_array(array, 13))\n",
    "            \n",
    "test_string = \"{][)}\" \n",
    "\n",
    "\n",
    "def check_subsequent_string(test_char, test_string, index, visited_list):\n",
    "    closing_char = {\n",
    "        '{' : '}',\n",
    "        '[' : ']', \n",
    "        '(' : ')'\n",
    "    }\n",
    "    if test_char not in closing_char.keys():\n",
    "        return visited_list, True\n",
    "    string_len = len(test_string) -1\n",
    "    for i in range(string_len, index-1, -1):\n",
    "        current_char = test_string[i] \n",
    "        if current_char == closing_char[test_char] and i not in visited_list:\n",
    "            visited_list.append(i)\n",
    "            return visited_list, True\n",
    "    return visited_list, False\n",
    "    \n",
    "def check_if_string_ok(test_string):\n",
    "    string_ok = True\n",
    "    visited_list = []\n",
    "    for i, character in enumerate(test_string):\n",
    "        visited_list, continue_flag = check_subsequent_string(character, test_string, i, visited_list)\n",
    "        if not continue_flag:\n",
    "            return False\n",
    "    return True"
   ]
  },
  {
   "cell_type": "code",
   "execution_count": 46,
   "metadata": {},
   "outputs": [
    {
     "data": {
      "text/plain": [
       "False"
      ]
     },
     "execution_count": 46,
     "metadata": {},
     "output_type": "execute_result"
    }
   ],
   "source": [
    "test_string = \"([]{{})\" \n",
    "check_if_string_ok(test_string)"
   ]
  },
  {
   "cell_type": "code",
   "execution_count": 6,
   "metadata": {},
   "outputs": [
    {
     "data": {
      "text/plain": [
       "dict_keys(['{', '[', '('])"
      ]
     },
     "execution_count": 6,
     "metadata": {},
     "output_type": "execute_result"
    }
   ],
   "source": [
    "closing_char.keys()"
   ]
  },
  {
   "cell_type": "code",
   "execution_count": 61,
   "metadata": {},
   "outputs": [],
   "source": [
    "# fibonacci\n",
    "\"0, 1, 1, 2, 3, 5, 8 \"\n",
    "def get_nth_fibonacci(nth, memory={}):\n",
    "    if nth in memory.keys():\n",
    "        return memory[nth], memory\n",
    "    else:\n",
    "        memory[0] = 0\n",
    "        memory[1] = 1\n",
    "        if nth == 0 or nth == 1:\n",
    "            return nth, memory\n",
    "        else:\n",
    "            for i in range(2, nth+1):\n",
    "                fib_sum = memory[i-1] + memory[i-2] \n",
    "                memory[i] = fib_sum\n",
    "            return fib_sum, memory"
   ]
  },
  {
   "cell_type": "code",
   "execution_count": 63,
   "metadata": {},
   "outputs": [],
   "source": [
    "fib, memory = get_nth_fibonacci(5)"
   ]
  },
  {
   "cell_type": "code",
   "execution_count": 69,
   "metadata": {},
   "outputs": [
    {
     "data": {
      "text/plain": [
       "354224848179261915075"
      ]
     },
     "execution_count": 69,
     "metadata": {},
     "output_type": "execute_result"
    }
   ],
   "source": [
    "fib, memory = get_nth_fibonacci(100, memory)\n",
    "fib"
   ]
  },
  {
   "cell_type": "code",
   "execution_count": 70,
   "metadata": {},
   "outputs": [
    {
     "data": {
      "text/plain": [
       "{0: 0,\n",
       " 1: 1,\n",
       " 2: 1,\n",
       " 3: 2,\n",
       " 4: 3,\n",
       " 5: 5,\n",
       " 6: 8,\n",
       " 7: 13,\n",
       " 8: 21,\n",
       " 9: 34,\n",
       " 10: 55,\n",
       " 11: 89,\n",
       " 12: 144,\n",
       " 13: 233,\n",
       " 14: 377,\n",
       " 15: 610,\n",
       " 16: 987,\n",
       " 17: 1597,\n",
       " 18: 2584,\n",
       " 19: 4181,\n",
       " 20: 6765,\n",
       " 21: 10946,\n",
       " 22: 17711,\n",
       " 23: 28657,\n",
       " 24: 46368,\n",
       " 25: 75025,\n",
       " 26: 121393,\n",
       " 27: 196418,\n",
       " 28: 317811,\n",
       " 29: 514229,\n",
       " 30: 832040,\n",
       " 31: 1346269,\n",
       " 32: 2178309,\n",
       " 33: 3524578,\n",
       " 34: 5702887,\n",
       " 35: 9227465,\n",
       " 36: 14930352,\n",
       " 37: 24157817,\n",
       " 38: 39088169,\n",
       " 39: 63245986,\n",
       " 40: 102334155,\n",
       " 41: 165580141,\n",
       " 42: 267914296,\n",
       " 43: 433494437,\n",
       " 44: 701408733,\n",
       " 45: 1134903170,\n",
       " 46: 1836311903,\n",
       " 47: 2971215073,\n",
       " 48: 4807526976,\n",
       " 49: 7778742049,\n",
       " 50: 12586269025,\n",
       " 51: 20365011074,\n",
       " 52: 32951280099,\n",
       " 53: 53316291173,\n",
       " 54: 86267571272,\n",
       " 55: 139583862445,\n",
       " 56: 225851433717,\n",
       " 57: 365435296162,\n",
       " 58: 591286729879,\n",
       " 59: 956722026041,\n",
       " 60: 1548008755920,\n",
       " 61: 2504730781961,\n",
       " 62: 4052739537881,\n",
       " 63: 6557470319842,\n",
       " 64: 10610209857723,\n",
       " 65: 17167680177565,\n",
       " 66: 27777890035288,\n",
       " 67: 44945570212853,\n",
       " 68: 72723460248141,\n",
       " 69: 117669030460994,\n",
       " 70: 190392490709135,\n",
       " 71: 308061521170129,\n",
       " 72: 498454011879264,\n",
       " 73: 806515533049393,\n",
       " 74: 1304969544928657,\n",
       " 75: 2111485077978050,\n",
       " 76: 3416454622906707,\n",
       " 77: 5527939700884757,\n",
       " 78: 8944394323791464,\n",
       " 79: 14472334024676221,\n",
       " 80: 23416728348467685,\n",
       " 81: 37889062373143906,\n",
       " 82: 61305790721611591,\n",
       " 83: 99194853094755497,\n",
       " 84: 160500643816367088,\n",
       " 85: 259695496911122585,\n",
       " 86: 420196140727489673,\n",
       " 87: 679891637638612258,\n",
       " 88: 1100087778366101931,\n",
       " 89: 1779979416004714189,\n",
       " 90: 2880067194370816120,\n",
       " 91: 4660046610375530309,\n",
       " 92: 7540113804746346429,\n",
       " 93: 12200160415121876738,\n",
       " 94: 19740274219868223167,\n",
       " 95: 31940434634990099905,\n",
       " 96: 51680708854858323072,\n",
       " 97: 83621143489848422977,\n",
       " 98: 135301852344706746049,\n",
       " 99: 218922995834555169026,\n",
       " 100: 354224848179261915075}"
      ]
     },
     "execution_count": 70,
     "metadata": {},
     "output_type": "execute_result"
    }
   ],
   "source": [
    "memory"
   ]
  },
  {
   "cell_type": "code",
   "execution_count": 107,
   "metadata": {},
   "outputs": [],
   "source": [
    "\"\"\" Longest Substring Without Repeating Characters\n",
    "\n",
    "Given a string, find the length of the longest substring without repeating characters.\"\"\"\n",
    "\n",
    "test_string = \"555qwertyu88888iopasdfghjklzxcmvnb27648755\"\n",
    "\n",
    "def get_longest_substring(string_test):\n",
    "    seen = {}\n",
    "    start = 0\n",
    "    max_len = 0\n",
    "    longest_str = \"\"\n",
    "    for last_index, char in enumerate(string_test):\n",
    "        if char in seen and seen[char] >= start:\n",
    "            start = seen[char] + 1\n",
    "        seen[char] = last_index\n",
    "            \n",
    "        if (last_index - start) + 1 > max_len:\n",
    "            longest_str = string_test[start:last_index+1] \n",
    "            max_len = (last_index - start) + 1\n",
    "    return longest_str, max_len\n",
    "\n"
   ]
  },
  {
   "cell_type": "code",
   "execution_count": 110,
   "metadata": {},
   "outputs": [
    {
     "data": {
      "text/plain": [
       "('abcdefghikl532164987_:;*[]', 26)"
      ]
     },
     "execution_count": 110,
     "metadata": {},
     "output_type": "execute_result"
    }
   ],
   "source": [
    "test_string = \"abcdabcdefgabcdefghikl532164987_:;*[]\"\n",
    "get_longest_substring(test_string)"
   ]
  },
  {
   "cell_type": "code",
   "execution_count": 116,
   "metadata": {},
   "outputs": [],
   "source": [
    "\"\"\" Merge Intervals\n",
    "\n",
    "Given a list of intervals, merge all overlapping intervals.\"\"\"\n",
    "\n",
    "a = [(5, 7), (1, 8), (2, 6), (8, 9)] # ---> [(5, 7), (5, 6), (), (2, 6), (), ()] ---->\n",
    "def get_overlapping_intervals(interval_list):\n",
    "    int_result = []\n",
    "    for i, int_a in enumerate(interval_list[:-1]):\n",
    "        for j in range(i+1, len(interval_list)):\n",
    "            int_b = interval_list[j]\n",
    "            if int_a[0] < int_b[1] and int_a[1] > int_b[0]:\n",
    "                int_result.append((max(int_a[0], int_b[0]), min(int_a[1], int_b[1])))\n",
    "            else:\n",
    "                int_result.append(())\n",
    "    return int_result"
   ]
  },
  {
   "cell_type": "code",
   "execution_count": 117,
   "metadata": {},
   "outputs": [
    {
     "data": {
      "text/plain": [
       "[(5, 7), (5, 6), (), (2, 6), (), ()]"
      ]
     },
     "execution_count": 117,
     "metadata": {},
     "output_type": "execute_result"
    }
   ],
   "source": [
    "get_overlapping_intervals(a)"
   ]
  },
  {
   "cell_type": "code",
   "execution_count": 185,
   "metadata": {},
   "outputs": [],
   "source": [
    "\"\"\" Top K Frequent Elements\n",
    "\n",
    "Given a list of elements, return the k most frequent elements.\"\"\"\n",
    "\n",
    "def get_most_k_freq_elements(test_list, k=2):\n",
    "    histogram = {}\n",
    "    for element in test_list:\n",
    "        if element not in histogram:\n",
    "            histogram[element] = 1\n",
    "        else:\n",
    "            histogram[element] += 1\n",
    "    sorted_count_list = sorted(histogram.values(), reverse=True)    \n",
    "    print(histogram)\n",
    "    print(sorted_count_list)\n",
    "    most_freq = []\n",
    "    for i in range(len(histogram)):\n",
    "        for key in histogram:\n",
    "            if len(most_freq) == k:\n",
    "                break\n",
    "            if histogram[key] == sorted_count_list[i]:\n",
    "                most_freq.append(key)\n",
    "\n",
    "    return most_freq"
   ]
  },
  {
   "cell_type": "code",
   "execution_count": 189,
   "metadata": {},
   "outputs": [
    {
     "name": "stdout",
     "output_type": "stream",
     "text": [
      "{'a': 1, 'b': 1, 'c': 2, 'd': 2, '2': 1, 1: 1, 2: 1, 3: 1, (1, 1): 1, 1111: 1}\n",
      "[2, 2, 1, 1, 1, 1, 1, 1, 1, 1]\n",
      "['c', 'd']\n"
     ]
    }
   ],
   "source": [
    "my_list = ['a','b', 'c', 'c', 'd', 'd', '2', 1, 2, 3, (1, 1), (1111)]\n",
    "print(get_most_k_freq_elements(my_list))"
   ]
  },
  {
   "cell_type": "code",
   "execution_count": 204,
   "metadata": {},
   "outputs": [],
   "source": [
    "\" combines two list in one selecting the largest elements entry by entry\"\n",
    "a = [2, 3, 4, 5, 6, 7]\n",
    "b = [1, 2, 3, 4, 5, 8]\n",
    "\n",
    "new_list = list(map(lambda x, y: x if x > y else y, a, b))"
   ]
  },
  {
   "cell_type": "code",
   "execution_count": 205,
   "metadata": {},
   "outputs": [],
   "source": [
    "my_lambda = lambda x: x + 2"
   ]
  },
  {
   "cell_type": "code",
   "execution_count": 206,
   "metadata": {},
   "outputs": [
    {
     "name": "stdout",
     "output_type": "stream",
     "text": [
      "[2, 3, 4, 5, 6, 8]\n"
     ]
    }
   ],
   "source": [
    "print(new_list)"
   ]
  },
  {
   "cell_type": "code",
   "execution_count": 137,
   "metadata": {},
   "outputs": [],
   "source": [
    "c = l.sort()"
   ]
  },
  {
   "cell_type": "code",
   "execution_count": 139,
   "metadata": {},
   "outputs": [
    {
     "name": "stdout",
     "output_type": "stream",
     "text": [
      "None\n"
     ]
    }
   ],
   "source": [
    "print(c)"
   ]
  },
  {
   "cell_type": "code",
   "execution_count": 144,
   "metadata": {},
   "outputs": [],
   "source": [
    "a = sorted(hist.values(), reverse=True)"
   ]
  },
  {
   "cell_type": "code",
   "execution_count": 145,
   "metadata": {},
   "outputs": [
    {
     "data": {
      "text/plain": [
       "[42, 5, 2]"
      ]
     },
     "execution_count": 145,
     "metadata": {},
     "output_type": "execute_result"
    }
   ],
   "source": [
    "a"
   ]
  },
  {
   "cell_type": "code",
   "execution_count": 260,
   "metadata": {},
   "outputs": [],
   "source": [
    "\"\"\" Rotate Matrix\n",
    "\n",
    "Rotate an n x n matrix 90 degrees clockwise in-place.\"\"\"\n",
    "\n",
    "a = [[1, 2, 3],\n",
    "     [4, 5, 6],  \n",
    "     [7, 8, 9]]\n",
    " \n",
    "result = [[7, 4, 1],\n",
    "         [8, 5, 2],  \n",
    "         [9, 6, 3]]\n",
    "\"\"\" (0, 0) --> (0, 2)\n",
    "     (0, 1) --> (1, 2)\n",
    "     (0, 2) ---> (2, 2)\n",
    "     (1, 0) ---> (0, 1)\n",
    "     (1, 1)----> (1, 1)\n",
    "     (1, 2) ---> (2, 1)\n",
    "     (2, 0) ---> (0, 0)\n",
    "     (2, 1) ---> (1, 0)\n",
    "     (2, 2) ---> (2, 0)\"\"\"\n",
    "\"\"\n",
    "def rotate_matrix(matrix):\n",
    "    matrix_result = []\n",
    "    np_matrix = np.mat(matrix)\n",
    "    n = np_matrix.shape[0]\n",
    "    m = np_matrix.shape[1]\n",
    "    if n == m:\n",
    "        # Columns will become reversed row\n",
    "        for i in range(n):\n",
    "            mat_col = np_matrix[:, i]\n",
    "            row = [int(elem) for elem in mat_col]\n",
    "            matrix_result.append(list(reversed(row)))\n",
    "        return matrix_result\n",
    "    else:\n",
    "        print(f\"Matrix of shape ({n}, {m}), please provide a n x n matrix\")\n",
    "        return None"
   ]
  },
  {
   "cell_type": "code",
   "execution_count": 261,
   "metadata": {},
   "outputs": [],
   "source": [
    "import numpy as np"
   ]
  },
  {
   "cell_type": "code",
   "execution_count": 262,
   "metadata": {},
   "outputs": [
    {
     "name": "stdout",
     "output_type": "stream",
     "text": [
      "[[7, 4, 1], [8, 5, 2], [9, 6, 3]]\n"
     ]
    }
   ],
   "source": [
    "print(rotate_matrix(a))"
   ]
  },
  {
   "cell_type": "code",
   "execution_count": 255,
   "metadata": {},
   "outputs": [
    {
     "data": {
      "text/plain": [
       "(3, 3)"
      ]
     },
     "execution_count": 255,
     "metadata": {},
     "output_type": "execute_result"
    }
   ],
   "source": [
    "a_mat.shape"
   ]
  },
  {
   "cell_type": "code",
   "execution_count": 230,
   "metadata": {},
   "outputs": [
    {
     "ename": "TypeError",
     "evalue": "list indices must be integers or slices, not tuple",
     "output_type": "error",
     "traceback": [
      "\u001b[1;31m---------------------------------------------------------------------------\u001b[0m",
      "\u001b[1;31mTypeError\u001b[0m                                 Traceback (most recent call last)",
      "\u001b[1;32m<ipython-input-230-73ad6d320f7e>\u001b[0m in \u001b[0;36m<module>\u001b[1;34m\u001b[0m\n\u001b[1;32m----> 1\u001b[1;33m \u001b[0ma\u001b[0m\u001b[1;33m[\u001b[0m\u001b[1;33m:\u001b[0m\u001b[1;33m,\u001b[0m \u001b[1;36m0\u001b[0m\u001b[1;33m]\u001b[0m\u001b[1;33m\u001b[0m\u001b[0m\n\u001b[0m",
      "\u001b[1;31mTypeError\u001b[0m: list indices must be integers or slices, not tuple"
     ]
    }
   ],
   "source": [
    "a[:, 0]"
   ]
  },
  {
   "cell_type": "code",
   "execution_count": 1,
   "metadata": {},
   "outputs": [],
   "source": [
    "import numpy as np"
   ]
  },
  {
   "cell_type": "code",
   "execution_count": 13,
   "metadata": {},
   "outputs": [],
   "source": [
    "\"\"\" Trapping Rain Water\n",
    "\n",
    "Given an array representing elevation heights, compute how much water it can trap after raining.\"\"\"\n",
    "\n",
    "a = [2, 7, 1, 0, 5, 0, 7] #---> 14\n",
    "def get_trapped_water(array):\n",
    "    # find local mimnimum\n",
    "    i = 0\n",
    "    trapped_watter = 0\n",
    "    for i in range(len(array)):\n",
    "        if array[i] < array[i+1]:\n",
    "            i += 1\n",
    "        else:\n",
    "            left_wall = array[i]\n",
    "            j = np.argmax(array[i+1:])\n",
    "            j += i+1\n",
    "            right_wall = array[j]\n",
    "            min_wall = min(left_wall, right_wall)\n",
    "            trapped_watter += sum(list(map(lambda x: min_wall - x, array[i+1:j])))\n",
    "            break\n",
    "    return trapped_watter"
   ]
  },
  {
   "cell_type": "code",
   "execution_count": 15,
   "metadata": {},
   "outputs": [
    {
     "name": "stdout",
     "output_type": "stream",
     "text": [
      "7 7\n"
     ]
    },
    {
     "data": {
      "text/plain": [
       "22"
      ]
     },
     "execution_count": 15,
     "metadata": {},
     "output_type": "execute_result"
    }
   ],
   "source": [
    "a = [2, 7, 1, 0, 5, 0, 7]\n",
    "get_trapped_water(a)"
   ]
  },
  {
   "cell_type": "code",
   "execution_count": 35,
   "metadata": {},
   "outputs": [],
   "source": [
    "\"\"\" Median of Two Sorted Arrays\n",
    "\n",
    "Find the median of two sorted arrays in logarithmic time.\"\"\"\n",
    "\n",
    "a = [1, 2, 3, 4]\n",
    "b = [2, 3, 5]\n",
    "\n",
    "# med = 1, 2, 2, 3, 3, 4, 5 --> 3\n",
    "\n",
    "def get_median_of_two_sorted_arrays(a, b):\n",
    "    if a[-1] > b[0]:\n",
    "        # the closest element lower than the max value of a will be the median \n",
    "        for num in list(reversed(b)):\n",
    "            if num < a[-1]:\n",
    "                return num\n",
    "        return a[-1]\n",
    "    else:\n",
    "        # the closest element greater than the min value of b will be the median \n",
    "        for num in list(reversed(a)):\n",
    "            if num < b[0]:\n",
    "                return num\n",
    "        return b[0]\n"
   ]
  },
  {
   "cell_type": "code",
   "execution_count": 39,
   "metadata": {},
   "outputs": [
    {
     "name": "stdout",
     "output_type": "stream",
     "text": [
      "4\n"
     ]
    },
    {
     "data": {
      "text/plain": [
       "4"
      ]
     },
     "execution_count": 39,
     "metadata": {},
     "output_type": "execute_result"
    }
   ],
   "source": [
    "a = [5, 6, 7, 8]\n",
    "b = [1, 2, 3, 4]\n",
    "get_median_of_two_sorted_arrays(a, b)"
   ]
  },
  {
   "cell_type": "code",
   "execution_count": 32,
   "metadata": {},
   "outputs": [
    {
     "data": {
      "text/plain": [
       "[4, 3, 2, 1]"
      ]
     },
     "execution_count": 32,
     "metadata": {},
     "output_type": "execute_result"
    }
   ],
   "source": [
    "list(reversed(a))"
   ]
  },
  {
   "cell_type": "code",
   "execution_count": null,
   "metadata": {},
   "outputs": [],
   "source": []
  }
 ],
 "metadata": {
  "kernelspec": {
   "display_name": "Python 3",
   "language": "python",
   "name": "python3"
  },
  "language_info": {
   "codemirror_mode": {
    "name": "ipython",
    "version": 3
   },
   "file_extension": ".py",
   "mimetype": "text/x-python",
   "name": "python",
   "nbconvert_exporter": "python",
   "pygments_lexer": "ipython3",
   "version": "3.7.0"
  }
 },
 "nbformat": 4,
 "nbformat_minor": 2
}
